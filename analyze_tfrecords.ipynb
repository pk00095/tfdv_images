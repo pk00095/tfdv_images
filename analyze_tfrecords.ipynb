{
 "cells": [
  {
   "cell_type": "code",
   "execution_count": null,
   "metadata": {},
   "outputs": [
    {
     "name": "stdout",
     "output_type": "stream",
     "text": [
      "Collecting tensorflow-data-validation\n",
      "  Using cached https://files.pythonhosted.org/packages/56/7f/f735edd93025ae04ca159db92013d373968144d719fe203e37d043db8c87/tensorflow_data_validation-0.13.1-cp36-cp36m-manylinux1_x86_64.whl\n",
      "Collecting numpy<2,>=1.14.5 (from tensorflow-data-validation)\n",
      "  Using cached https://files.pythonhosted.org/packages/3d/fc/4763e5f17ac6e7e7d55f377cde859ca1c5d5ac624441ab45315bc578aa9e/numpy-1.18.3-cp36-cp36m-manylinux1_x86_64.whl\n",
      "Collecting tensorflow-metadata<0.14,>=0.12.1 (from tensorflow-data-validation)\n",
      "  Using cached https://files.pythonhosted.org/packages/08/b7/3fc74574aa9aff44491cce996711dd6094653c20d9e2800be4efb054e0da/tensorflow_metadata-0.13.0-py3-none-any.whl\n",
      "Collecting apache-beam[gcp]<3,>=2.11 (from tensorflow-data-validation)\n",
      "  Using cached https://files.pythonhosted.org/packages/4b/0d/0979ad626578a52887f7df60492ac6759089a9da261ac4c88b112b3f6a5a/apache_beam-2.20.0-cp36-cp36m-manylinux1_x86_64.whl\n",
      "Collecting protobuf<4,>=3.7 (from tensorflow-data-validation)\n",
      "  Using cached https://files.pythonhosted.org/packages/57/02/5432412c162989260fab61fa65e0a490c1872739eb91a659896e4d554b26/protobuf-3.11.3-cp36-cp36m-manylinux1_x86_64.whl\n",
      "Collecting IPython>=5.0 (from tensorflow-data-validation)\n",
      "  Using cached https://files.pythonhosted.org/packages/61/6f/69f1eec859ce48a86660529b166b6ea466f0f4ab98e4fc0807b835aa22c6/ipython-7.13.0-py3-none-any.whl\n",
      "Collecting tensorflow-transform<0.14,>=0.13 (from tensorflow-data-validation)\n",
      "Collecting absl-py<1,>=0.1.6 (from tensorflow-data-validation)\n",
      "Collecting scikit-learn<1,>=0.18 (from tensorflow-data-validation)\n",
      "  Using cached https://files.pythonhosted.org/packages/5e/d8/312e03adf4c78663e17d802fe2440072376fee46cada1404f1727ed77a32/scikit_learn-0.22.2.post1-cp36-cp36m-manylinux1_x86_64.whl\n",
      "Collecting pandas<1,>=0.18 (from tensorflow-data-validation)\n",
      "  Using cached https://files.pythonhosted.org/packages/52/3f/f6a428599e0d4497e1595030965b5ba455fd8ade6e977e3c819973c4b41d/pandas-0.25.3-cp36-cp36m-manylinux1_x86_64.whl\n",
      "Collecting joblib<1,>=0.12 (from tensorflow-data-validation)\n",
      "  Using cached https://files.pythonhosted.org/packages/28/5c/cf6a2b65a321c4a209efcdf64c2689efae2cb62661f8f6f4bb28547cf1bf/joblib-0.14.1-py2.py3-none-any.whl\n",
      "Collecting six<2,>=1.10 (from tensorflow-data-validation)\n",
      "  Using cached https://files.pythonhosted.org/packages/65/eb/1f97cb97bfc2390a276969c6fae16075da282f5058082d4cb10c6c5c1dba/six-1.14.0-py2.py3-none-any.whl\n",
      "Collecting googleapis-common-protos (from tensorflow-metadata<0.14,>=0.12.1->tensorflow-data-validation)\n",
      "Collecting typing-extensions<3.8.0,>=3.7.0 (from apache-beam[gcp]<3,>=2.11->tensorflow-data-validation)\n",
      "  Using cached https://files.pythonhosted.org/packages/0c/0e/3f026d0645d699e7320b59952146d56ad7c374e9cd72cd16e7c74e657a0f/typing_extensions-3.7.4.2-py3-none-any.whl\n",
      "Collecting dill<0.3.2,>=0.3.1.1 (from apache-beam[gcp]<3,>=2.11->tensorflow-data-validation)\n",
      "Collecting avro-python3!=1.9.2,<1.10.0,>=1.8.1; python_version >= \"3.0\" (from apache-beam[gcp]<3,>=2.11->tensorflow-data-validation)\n",
      "Collecting future<1.0.0,>=0.16.0 (from apache-beam[gcp]<3,>=2.11->tensorflow-data-validation)\n",
      "Collecting httplib2<=0.12.0,>=0.8 (from apache-beam[gcp]<3,>=2.11->tensorflow-data-validation)\n",
      "Collecting python-dateutil<3,>=2.8.0 (from apache-beam[gcp]<3,>=2.11->tensorflow-data-validation)\n",
      "  Using cached https://files.pythonhosted.org/packages/d4/70/d60450c3dd48ef87586924207ae8907090de0b306af2bce5d134d78615cb/python_dateutil-2.8.1-py2.py3-none-any.whl\n",
      "Collecting pyarrow<0.17.0,>=0.15.1; python_version >= \"3.0\" or platform_system != \"Windows\" (from apache-beam[gcp]<3,>=2.11->tensorflow-data-validation)\n",
      "  Using cached https://files.pythonhosted.org/packages/ba/10/93fad5849418eade4a4cd581f8cd27be1bbe51e18968ba1492140c887f3f/pyarrow-0.16.0-cp36-cp36m-manylinux1_x86_64.whl\n",
      "Collecting mock<3.0.0,>=1.0.1 (from apache-beam[gcp]<3,>=2.11->tensorflow-data-validation)\n",
      "  Using cached https://files.pythonhosted.org/packages/e6/35/f187bdf23be87092bd0f1200d43d23076cee4d0dec109f195173fd3ebc79/mock-2.0.0-py2.py3-none-any.whl\n",
      "Collecting fastavro<0.22,>=0.21.4 (from apache-beam[gcp]<3,>=2.11->tensorflow-data-validation)\n",
      "  Using cached https://files.pythonhosted.org/packages/e1/28/0206330c0002b1e28e21473117d0dc813defbd5891562d27af5c68c93899/fastavro-0.21.24-cp36-cp36m-manylinux1_x86_64.whl\n",
      "Collecting oauth2client<4,>=2.0.1 (from apache-beam[gcp]<3,>=2.11->tensorflow-data-validation)\n",
      "Collecting pydot<2,>=1.2.0 (from apache-beam[gcp]<3,>=2.11->tensorflow-data-validation)\n",
      "  Using cached https://files.pythonhosted.org/packages/33/d1/b1479a770f66d962f545c2101630ce1d5592d90cb4f083d38862e93d16d2/pydot-1.4.1-py2.py3-none-any.whl\n",
      "Collecting pymongo<4.0.0,>=3.8.0 (from apache-beam[gcp]<3,>=2.11->tensorflow-data-validation)\n",
      "  Using cached https://files.pythonhosted.org/packages/49/01/1da7d3709ea54b3b4623c32d521fb263da14822c7d9064d7fd9eeb0b492c/pymongo-3.10.1-cp36-cp36m-manylinux1_x86_64.whl\n",
      "Collecting hdfs<3.0.0,>=2.1.0 (from apache-beam[gcp]<3,>=2.11->tensorflow-data-validation)\n",
      "Collecting pytz>=2018.3 (from apache-beam[gcp]<3,>=2.11->tensorflow-data-validation)\n",
      "  Using cached https://files.pythonhosted.org/packages/e7/f9/f0b53f88060247251bf481fa6ea62cd0d25bf1b11a87888e53ce5b7c8ad2/pytz-2019.3-py2.py3-none-any.whl\n",
      "Collecting grpcio<2,>=1.12.1 (from apache-beam[gcp]<3,>=2.11->tensorflow-data-validation)\n",
      "Collecting crcmod<2.0,>=1.7 (from apache-beam[gcp]<3,>=2.11->tensorflow-data-validation)\n",
      "Collecting google-cloud-videointelligence<1.14.0,>=1.8.0; extra == \"gcp\" (from apache-beam[gcp]<3,>=2.11->tensorflow-data-validation)\n",
      "  Using cached https://files.pythonhosted.org/packages/bb/bd/9945e21aace32bc45a17b65944b5cd20efb7370985d8984425831a47ca22/google_cloud_videointelligence-1.13.0-py2.py3-none-any.whl\n",
      "Collecting google-cloud-vision<0.43.0,>=0.38.0; extra == \"gcp\" (from apache-beam[gcp]<3,>=2.11->tensorflow-data-validation)\n",
      "  Using cached https://files.pythonhosted.org/packages/eb/23/6d5a728333ce568fb484d0d7edd0b7c04b16cf6325af31d957eb51ed077d/google_cloud_vision-0.42.0-py2.py3-none-any.whl\n",
      "Collecting google-cloud-spanner<1.14.0,>=1.13.0; extra == \"gcp\" (from apache-beam[gcp]<3,>=2.11->tensorflow-data-validation)\n",
      "  Using cached https://files.pythonhosted.org/packages/9e/39/c5e470bf59ce15716490bea1945e2c03b4f08f2153285f19dc6f9337b9e9/google_cloud_spanner-1.13.0-py2.py3-none-any.whl\n",
      "Collecting google-apitools<0.5.29,>=0.5.28; extra == \"gcp\" (from apache-beam[gcp]<3,>=2.11->tensorflow-data-validation)\n",
      "Collecting google-cloud-datastore<1.8.0,>=1.7.1; extra == \"gcp\" (from apache-beam[gcp]<3,>=2.11->tensorflow-data-validation)\n",
      "  Using cached https://files.pythonhosted.org/packages/d0/aa/29cbcf8cf7d08ce2d55b9dce858f7c632b434cb6451bed17cb4275804217/google_cloud_datastore-1.7.4-py2.py3-none-any.whl\n",
      "Collecting google-cloud-core<2,>=0.28.1; extra == \"gcp\" (from apache-beam[gcp]<3,>=2.11->tensorflow-data-validation)\n",
      "  Using cached https://files.pythonhosted.org/packages/89/3c/8a7531839028c9690e6d14c650521f3bbaf26e53baaeb2784b8c3eb2fb97/google_cloud_core-1.3.0-py2.py3-none-any.whl\n",
      "Collecting grpcio-gcp<1,>=0.2.2; extra == \"gcp\" (from apache-beam[gcp]<3,>=2.11->tensorflow-data-validation)\n",
      "  Using cached https://files.pythonhosted.org/packages/ba/83/1f1095815be0de19102df41e250ebbd7dae97d7d14e22c18da07ed5ed9d4/grpcio_gcp-0.2.2-py2.py3-none-any.whl\n",
      "Collecting google-cloud-bigtable<1.1.0,>=0.31.1; extra == \"gcp\" (from apache-beam[gcp]<3,>=2.11->tensorflow-data-validation)\n",
      "  Using cached https://files.pythonhosted.org/packages/95/af/0ef7d097a1d5ad0c843867600e86de915e8ab8864740f49a4636cfb51af6/google_cloud_bigtable-1.0.0-py2.py3-none-any.whl\n",
      "Collecting cachetools<4,>=3.1.0; extra == \"gcp\" (from apache-beam[gcp]<3,>=2.11->tensorflow-data-validation)\n",
      "  Using cached https://files.pythonhosted.org/packages/2f/a6/30b0a0bef12283e83e58c1d6e7b5aabc7acfc4110df81a4471655d33e704/cachetools-3.1.1-py2.py3-none-any.whl\n",
      "Collecting google-cloud-language<2,>=1.3.0; extra == \"gcp\" (from apache-beam[gcp]<3,>=2.11->tensorflow-data-validation)\n",
      "  Using cached https://files.pythonhosted.org/packages/ba/b8/965a97ba60287910d342623da1da615254bded3e0965728cf7fc6339b7c8/google_cloud_language-1.3.0-py2.py3-none-any.whl\n",
      "Collecting google-cloud-dlp<=0.13.0,>=0.12.0; extra == \"gcp\" (from apache-beam[gcp]<3,>=2.11->tensorflow-data-validation)\n"
     ]
    },
    {
     "name": "stdout",
     "output_type": "stream",
     "text": [
      "  Using cached https://files.pythonhosted.org/packages/24/65/c74f730d5c08affdb056250e601f77c54c0f7c13dfd1c865e02f98b4e7b4/google_cloud_dlp-0.13.0-py2.py3-none-any.whl\n",
      "Collecting google-cloud-pubsub<1.1.0,>=0.39.0; extra == \"gcp\" (from apache-beam[gcp]<3,>=2.11->tensorflow-data-validation)\n",
      "  Using cached https://files.pythonhosted.org/packages/d3/91/07a82945a7396ea34debafd476724bb5fc267c292790fdf2138c693f95c5/google_cloud_pubsub-1.0.2-py2.py3-none-any.whl\n",
      "Collecting google-cloud-bigquery<=1.24.0,>=1.6.0; extra == \"gcp\" (from apache-beam[gcp]<3,>=2.11->tensorflow-data-validation)\n",
      "  Using cached https://files.pythonhosted.org/packages/8f/f7/b6f55e144da37f38a79552a06103f2df4a9569e2dfc6d741a7e2a63d3592/google_cloud_bigquery-1.24.0-py2.py3-none-any.whl\n",
      "Collecting setuptools (from protobuf<4,>=3.7->tensorflow-data-validation)\n",
      "  Using cached https://files.pythonhosted.org/packages/a0/df/635cdb901ee4a8a42ec68e480c49f85f4c59e8816effbf57d9e6ee8b3588/setuptools-46.1.3-py3-none-any.whl\n",
      "Collecting prompt-toolkit!=3.0.0,!=3.0.1,<3.1.0,>=2.0.0 (from IPython>=5.0->tensorflow-data-validation)\n",
      "  Using cached https://files.pythonhosted.org/packages/e4/a7/81b39aa50e9284fe2cb21cc7fb7de7817b224172d42793fd57451d38842b/prompt_toolkit-3.0.5-py3-none-any.whl\n",
      "Collecting traitlets>=4.2 (from IPython>=5.0->tensorflow-data-validation)\n",
      "  Using cached https://files.pythonhosted.org/packages/ca/ab/872a23e29cec3cf2594af7e857f18b687ad21039c1f9b922fac5b9b142d5/traitlets-4.3.3-py2.py3-none-any.whl\n",
      "Collecting pexpect; sys_platform != \"win32\" (from IPython>=5.0->tensorflow-data-validation)\n",
      "  Using cached https://files.pythonhosted.org/packages/39/7b/88dbb785881c28a102619d46423cb853b46dbccc70d3ac362d99773a78ce/pexpect-4.8.0-py2.py3-none-any.whl\n",
      "Collecting backcall (from IPython>=5.0->tensorflow-data-validation)\n",
      "Collecting decorator (from IPython>=5.0->tensorflow-data-validation)\n",
      "  Using cached https://files.pythonhosted.org/packages/ed/1b/72a1821152d07cf1d8b6fce298aeb06a7eb90f4d6d41acec9861e7cc6df0/decorator-4.4.2-py2.py3-none-any.whl\n",
      "Collecting jedi>=0.10 (from IPython>=5.0->tensorflow-data-validation)\n",
      "  Using cached https://files.pythonhosted.org/packages/f3/3f/67f027e18c60a800875df1a0894a2436ce9053637fa39725766e937c0a71/jedi-0.17.0-py2.py3-none-any.whl\n",
      "Collecting pygments (from IPython>=5.0->tensorflow-data-validation)\n",
      "  Using cached https://files.pythonhosted.org/packages/2d/68/106af3ae51daf807e9cdcba6a90e518954eb8b70341cee52995540a53ead/Pygments-2.6.1-py3-none-any.whl\n",
      "Collecting pickleshare (from IPython>=5.0->tensorflow-data-validation)\n",
      "  Using cached https://files.pythonhosted.org/packages/9a/41/220f49aaea88bc6fa6cba8d05ecf24676326156c23b991e80b3f2fc24c77/pickleshare-0.7.5-py2.py3-none-any.whl\n",
      "Collecting scipy>=0.17.0 (from scikit-learn<1,>=0.18->tensorflow-data-validation)\n",
      "  Using cached https://files.pythonhosted.org/packages/dc/29/162476fd44203116e7980cfbd9352eef9db37c49445d1fec35509022f6aa/scipy-1.4.1-cp36-cp36m-manylinux1_x86_64.whl\n",
      "Collecting pbr>=0.11 (from mock<3.0.0,>=1.0.1->apache-beam[gcp]<3,>=2.11->tensorflow-data-validation)\n",
      "  Using cached https://files.pythonhosted.org/packages/96/ba/aa953a11ec014b23df057ecdbc922fdb40ca8463466b1193f3367d2711a6/pbr-5.4.5-py2.py3-none-any.whl\n",
      "Collecting rsa>=3.1.4 (from oauth2client<4,>=2.0.1->apache-beam[gcp]<3,>=2.11->tensorflow-data-validation)\n",
      "  Using cached https://files.pythonhosted.org/packages/02/e5/38518af393f7c214357079ce67a317307936896e961e35450b70fad2a9cf/rsa-4.0-py2.py3-none-any.whl\n",
      "Collecting pyasn1-modules>=0.0.5 (from oauth2client<4,>=2.0.1->apache-beam[gcp]<3,>=2.11->tensorflow-data-validation)\n",
      "  Using cached https://files.pythonhosted.org/packages/95/de/214830a981892a3e286c3794f41ae67a4495df1108c3da8a9f62159b9a9d/pyasn1_modules-0.2.8-py2.py3-none-any.whl\n",
      "Collecting pyasn1>=0.1.7 (from oauth2client<4,>=2.0.1->apache-beam[gcp]<3,>=2.11->tensorflow-data-validation)\n",
      "  Using cached https://files.pythonhosted.org/packages/62/1e/a94a8d635fa3ce4cfc7f506003548d0a2447ae76fd5ca53932970fe3053f/pyasn1-0.4.8-py2.py3-none-any.whl\n",
      "Collecting pyparsing>=2.1.4 (from pydot<2,>=1.2.0->apache-beam[gcp]<3,>=2.11->tensorflow-data-validation)\n",
      "  Using cached https://files.pythonhosted.org/packages/8a/bb/488841f56197b13700afd5658fc279a2025a39e22449b7cf29864669b15d/pyparsing-2.4.7-py2.py3-none-any.whl\n",
      "Collecting requests>=2.7.0 (from hdfs<3.0.0,>=2.1.0->apache-beam[gcp]<3,>=2.11->tensorflow-data-validation)\n",
      "  Using cached https://files.pythonhosted.org/packages/1a/70/1935c770cb3be6e3a8b78ced23d7e0f3b187f5cbfab4749523ed65d7c9b1/requests-2.23.0-py2.py3-none-any.whl\n",
      "Collecting docopt (from hdfs<3.0.0,>=2.1.0->apache-beam[gcp]<3,>=2.11->tensorflow-data-validation)\n",
      "Collecting google-api-core[grpc]<2.0.0dev,>=1.14.0 (from google-cloud-videointelligence<1.14.0,>=1.8.0; extra == \"gcp\"->apache-beam[gcp]<3,>=2.11->tensorflow-data-validation)\n",
      "  Using cached https://files.pythonhosted.org/packages/4c/b9/c0dd70bcdf06a43d1e21f387448e7997e0ce91f10d0fbee359af4cde1571/google_api_core-1.17.0-py2.py3-none-any.whl\n",
      "Collecting grpc-google-iam-v1<0.13dev,>=0.12.3 (from google-cloud-spanner<1.14.0,>=1.13.0; extra == \"gcp\"->apache-beam[gcp]<3,>=2.11->tensorflow-data-validation)\n",
      "Collecting fasteners>=0.14 (from google-apitools<0.5.29,>=0.5.28; extra == \"gcp\"->apache-beam[gcp]<3,>=2.11->tensorflow-data-validation)\n",
      "  Using cached https://files.pythonhosted.org/packages/18/bd/55eb2d6397b9c0e263af9d091ebdb756b15756029b3cededf6461481bc63/fasteners-0.15-py2.py3-none-any.whl\n",
      "Collecting google-resumable-media<0.6dev,>=0.5.0 (from google-cloud-bigquery<=1.24.0,>=1.6.0; extra == \"gcp\"->apache-beam[gcp]<3,>=2.11->tensorflow-data-validation)\n",
      "  Using cached https://files.pythonhosted.org/packages/35/9e/f73325d0466ce5bdc36333f1aeb2892ead7b76e79bdb5c8b0493961fa098/google_resumable_media-0.5.0-py2.py3-none-any.whl\n",
      "Collecting google-auth<2.0dev,>=1.9.0 (from google-cloud-bigquery<=1.24.0,>=1.6.0; extra == \"gcp\"->apache-beam[gcp]<3,>=2.11->tensorflow-data-validation)\n",
      "  Using cached https://files.pythonhosted.org/packages/d2/f8/1623d69e5de22e499b68a0cb5e5d02cd6a2843e55acc19f314f48fe04299/google_auth-1.14.1-py2.py3-none-any.whl\n",
      "Collecting wcwidth (from prompt-toolkit!=3.0.0,!=3.0.1,<3.1.0,>=2.0.0->IPython>=5.0->tensorflow-data-validation)\n",
      "  Using cached https://files.pythonhosted.org/packages/f6/d5/1ecdac957e3ea12c1b319fcdee8b6917ffaff8b4644d673c4d72d2f20b49/wcwidth-0.1.9-py2.py3-none-any.whl\n",
      "Collecting ipython-genutils (from traitlets>=4.2->IPython>=5.0->tensorflow-data-validation)\n",
      "  Using cached https://files.pythonhosted.org/packages/fa/bc/9bd3b5c2b4774d5f33b2d544f1460be9df7df2fe42f352135381c347c69a/ipython_genutils-0.2.0-py2.py3-none-any.whl\n",
      "Collecting ptyprocess>=0.5 (from pexpect; sys_platform != \"win32\"->IPython>=5.0->tensorflow-data-validation)\n",
      "  Using cached https://files.pythonhosted.org/packages/d1/29/605c2cc68a9992d18dada28206eeada56ea4bd07a239669da41674648b6f/ptyprocess-0.6.0-py2.py3-none-any.whl\n",
      "Collecting parso>=0.7.0 (from jedi>=0.10->IPython>=5.0->tensorflow-data-validation)\n",
      "  Using cached https://files.pythonhosted.org/packages/b5/61/998cce9e7476de000d031874df26a18f67cb73448164fc44a98f0c55920b/parso-0.7.0-py2.py3-none-any.whl\n",
      "Collecting urllib3!=1.25.0,!=1.25.1,<1.26,>=1.21.1 (from requests>=2.7.0->hdfs<3.0.0,>=2.1.0->apache-beam[gcp]<3,>=2.11->tensorflow-data-validation)\n",
      "  Using cached https://files.pythonhosted.org/packages/e1/e5/df302e8017440f111c11cc41a6b432838672f5a70aa29227bf58149dc72f/urllib3-1.25.9-py2.py3-none-any.whl\n",
      "Collecting idna<3,>=2.5 (from requests>=2.7.0->hdfs<3.0.0,>=2.1.0->apache-beam[gcp]<3,>=2.11->tensorflow-data-validation)\n",
      "  Using cached https://files.pythonhosted.org/packages/89/e3/afebe61c546d18fb1709a61bee788254b40e736cff7271c7de5de2dc4128/idna-2.9-py2.py3-none-any.whl\n",
      "Collecting certifi>=2017.4.17 (from requests>=2.7.0->hdfs<3.0.0,>=2.1.0->apache-beam[gcp]<3,>=2.11->tensorflow-data-validation)\n",
      "  Using cached https://files.pythonhosted.org/packages/57/2b/26e37a4b034800c960a00c4e1b3d9ca5d7014e983e6e729e33ea2f36426c/certifi-2020.4.5.1-py2.py3-none-any.whl\n",
      "Collecting chardet<4,>=3.0.2 (from requests>=2.7.0->hdfs<3.0.0,>=2.1.0->apache-beam[gcp]<3,>=2.11->tensorflow-data-validation)\n",
      "  Using cached https://files.pythonhosted.org/packages/bc/a9/01ffebfb562e4274b6487b4bb1ddec7ca55ec7510b22e4c51f14098443b8/chardet-3.0.4-py2.py3-none-any.whl\n",
      "Collecting monotonic>=0.1 (from fasteners>=0.14->google-apitools<0.5.29,>=0.5.28; extra == \"gcp\"->apache-beam[gcp]<3,>=2.11->tensorflow-data-validation)\n"
     ]
    },
    {
     "name": "stdout",
     "output_type": "stream",
     "text": [
      "  Using cached https://files.pythonhosted.org/packages/ac/aa/063eca6a416f397bd99552c534c6d11d57f58f2e94c14780f3bbf818c4cf/monotonic-1.5-py2.py3-none-any.whl\n",
      "Installing collected packages: numpy, setuptools, six, protobuf, googleapis-common-protos, tensorflow-metadata, typing-extensions, dill, avro-python3, future, httplib2, python-dateutil, pyarrow, pbr, mock, fastavro, pyasn1, rsa, pyasn1-modules, oauth2client, pyparsing, pydot, pymongo, urllib3, idna, certifi, chardet, requests, docopt, hdfs, pytz, grpcio, crcmod, cachetools, google-auth, google-api-core, google-cloud-videointelligence, google-cloud-vision, google-cloud-core, grpc-google-iam-v1, google-cloud-spanner, monotonic, fasteners, google-apitools, google-cloud-datastore, grpcio-gcp, google-cloud-bigtable, google-cloud-language, google-cloud-dlp, google-cloud-pubsub, google-resumable-media, google-cloud-bigquery, apache-beam, wcwidth, prompt-toolkit, ipython-genutils, decorator, traitlets, ptyprocess, pexpect, backcall, parso, jedi, pygments, pickleshare, IPython, absl-py, tensorflow-transform, scipy, joblib, scikit-learn, pandas, tensorflow-data-validation\n",
      "Successfully installed IPython-7.13.0 absl-py-0.9.0 apache-beam-2.20.0 avro-python3-1.9.2.1 backcall-0.1.0 cachetools-3.1.1 certifi-2020.4.5.1 chardet-3.0.4 crcmod-1.7 decorator-4.4.2 dill-0.3.1.1 docopt-0.6.2 fastavro-0.21.24 fasteners-0.15 future-0.18.2 google-api-core-1.17.0 google-apitools-0.5.28 google-auth-1.14.1 google-cloud-bigquery-1.24.0 google-cloud-bigtable-1.0.0 google-cloud-core-1.3.0 google-cloud-datastore-1.7.4 google-cloud-dlp-0.13.0 google-cloud-language-1.3.0 google-cloud-pubsub-1.0.2 google-cloud-spanner-1.13.0 google-cloud-videointelligence-1.13.0 google-cloud-vision-0.42.0 google-resumable-media-0.5.0 googleapis-common-protos-1.51.0 grpc-google-iam-v1-0.12.3 grpcio-1.28.1 grpcio-gcp-0.2.2 hdfs-2.5.8 httplib2-0.12.0 idna-2.9 ipython-genutils-0.2.0 jedi-0.17.0 joblib-0.14.1 mock-2.0.0 monotonic-1.5 numpy-1.18.3 oauth2client-3.0.0 pandas-1.0.3 parso-0.7.0 pbr-5.4.5 pexpect-4.8.0 pickleshare-0.7.5 prompt-toolkit-3.0.5 protobuf-3.11.3 ptyprocess-0.6.0 pyarrow-0.16.0 pyasn1-0.4.8 pyasn1-modules-0.2.8 pydot-1.4.1 pygments-2.6.1 pymongo-3.10.1 pyparsing-2.4.7 python-dateutil-2.8.1 pytz-2019.3 requests-2.23.0 rsa-4.0 scikit-learn-0.22.2.post1 scipy-1.4.1 setuptools-46.1.3 six-1.14.0 tensorflow-data-validation-0.13.1 tensorflow-metadata-0.13.0 tensorflow-transform-0.13.0 traitlets-4.3.3 typing-extensions-3.7.4.2 urllib3-1.25.9 wcwidth-0.1.9\n",
      "Collecting pandas\n",
      "  Using cached https://files.pythonhosted.org/packages/bb/71/8f53bdbcbc67c912b888b40def255767e475402e9df64050019149b1a943/pandas-1.0.3-cp36-cp36m-manylinux1_x86_64.whl\n",
      "Collecting numpy>=1.13.3 (from pandas)\n",
      "  Using cached https://files.pythonhosted.org/packages/3d/fc/4763e5f17ac6e7e7d55f377cde859ca1c5d5ac624441ab45315bc578aa9e/numpy-1.18.3-cp36-cp36m-manylinux1_x86_64.whl\n",
      "Collecting pytz>=2017.2 (from pandas)\n",
      "  Using cached https://files.pythonhosted.org/packages/e7/f9/f0b53f88060247251bf481fa6ea62cd0d25bf1b11a87888e53ce5b7c8ad2/pytz-2019.3-py2.py3-none-any.whl\n",
      "Collecting python-dateutil>=2.6.1 (from pandas)\n",
      "  Using cached https://files.pythonhosted.org/packages/d4/70/d60450c3dd48ef87586924207ae8907090de0b306af2bce5d134d78615cb/python_dateutil-2.8.1-py2.py3-none-any.whl\n",
      "Collecting six>=1.5 (from python-dateutil>=2.6.1->pandas)\n",
      "  Using cached https://files.pythonhosted.org/packages/65/eb/1f97cb97bfc2390a276969c6fae16075da282f5058082d4cb10c6c5c1dba/six-1.14.0-py2.py3-none-any.whl\n",
      "Installing collected packages: numpy, pytz, six, python-dateutil, pandas\n",
      "Successfully installed numpy-1.18.3 pandas-1.0.3 python-dateutil-2.8.1 pytz-2019.3 six-1.14.0\n"
     ]
    }
   ],
   "source": [
    "!pip3 install tensorflow-data-validation\n",
    "%matplotlib inline\n",
    "!pip3 install pandas --upgrade"
   ]
  },
  {
   "cell_type": "code",
   "execution_count": 6,
   "metadata": {
    "scrolled": true
   },
   "outputs": [],
   "source": [
    "import tensorflow_data_validation as tfdv\n",
    "from tensorflow_data_validation.utils.display_util import get_statistics_html\n",
    "\n",
    "label_value = 0\n",
    "\n",
    "tfrecord_path = '/home/segmind/Desktop/PRATIK/DATASETS/consolidated/PER_CLASS_TFDV_TFRECORD/{}.tfrecord'.format(label_value)\n",
    "stats_store_path = '/home/segmind/Desktop/PRATIK/DATASETS/consolidated/{}.proto'.format(label_value)\n",
    "html_path = '/home/segmind/Desktop/PRATIK/DATASETS/consolidated/PER_CLASS_TFDV_TFRECORD/{}.html'.format(label_value)\n",
    "\n",
    "# If analysis on image is required\n",
    "#semantic_stats_options = tfdv.StatsOptions(enable_semantic_domain_stats=True)\n",
    "# Donot analyze images\n",
    "semantic_stats_options = tfdv.StatsOptions()\n"
   ]
  },
  {
   "cell_type": "code",
   "execution_count": 4,
   "metadata": {},
   "outputs": [
    {
     "name": "stderr",
     "output_type": "stream",
     "text": [
      "WARNING:apache_beam.runners.interactive.interactive_environment:Dependencies required for Interactive Beam PCollection visualization are not available, please use: `pip install apache-beam[interactive]` to install necessary dependencies to enable all data visualization features.\n"
     ]
    },
    {
     "name": "stdout",
     "output_type": "stream",
     "text": [
      "WARNING:tensorflow:From /home/segmind/.local/lib/python3.6/site-packages/tensorflow_transform/analyzers.py:948: The name tf.Session is deprecated. Please use tf.compat.v1.Session instead.\n",
      "\n"
     ]
    },
    {
     "name": "stderr",
     "output_type": "stream",
     "text": [
      "WARNING:tensorflow:From /home/segmind/.local/lib/python3.6/site-packages/tensorflow_transform/analyzers.py:948: The name tf.Session is deprecated. Please use tf.compat.v1.Session instead.\n",
      "\n"
     ]
    },
    {
     "name": "stdout",
     "output_type": "stream",
     "text": [
      "WARNING:tensorflow:From /home/segmind/.local/lib/python3.6/site-packages/tensorflow_transform/analyzers.py:994: The name tf.placeholder is deprecated. Please use tf.compat.v1.placeholder instead.\n",
      "\n"
     ]
    },
    {
     "name": "stderr",
     "output_type": "stream",
     "text": [
      "WARNING:tensorflow:From /home/segmind/.local/lib/python3.6/site-packages/tensorflow_transform/analyzers.py:994: The name tf.placeholder is deprecated. Please use tf.compat.v1.placeholder instead.\n",
      "\n",
      "WARNING:apache_beam.io.tfrecordio:Couldn't find python-snappy so the implementation of _TFRecordUtil._masked_crc32c is not as fast as it could be.\n",
      "WARNING:apache_beam.io.filebasedsink:Deleting 1 existing files in target path matching: \n"
     ]
    },
    {
     "name": "stdout",
     "output_type": "stream",
     "text": [
      "WARNING:tensorflow:From /home/segmind/.local/lib/python3.6/site-packages/tensorflow_data_validation/utils/stats_gen_lib.py:328: tf_record_iterator (from tensorflow.python.lib.io.tf_record) is deprecated and will be removed in a future version.\n",
      "Instructions for updating:\n",
      "Use eager execution and: \n",
      "`tf.data.TFRecordDataset(path)`\n"
     ]
    },
    {
     "name": "stderr",
     "output_type": "stream",
     "text": [
      "WARNING:tensorflow:From /home/segmind/.local/lib/python3.6/site-packages/tensorflow_data_validation/utils/stats_gen_lib.py:328: tf_record_iterator (from tensorflow.python.lib.io.tf_record) is deprecated and will be removed in a future version.\n",
      "Instructions for updating:\n",
      "Use eager execution and: \n",
      "`tf.data.TFRecordDataset(path)`\n"
     ]
    }
   ],
   "source": [
    "stats = tfdv.generate_statistics_from_tfrecord(\n",
    "\tdata_location=tfrecord_path,\n",
    "    output_path=stats_store_path,\n",
    "\tstats_options=semantic_stats_options)\n"
   ]
  },
  {
   "cell_type": "code",
   "execution_count": 7,
   "metadata": {},
   "outputs": [
    {
     "data": {
      "text/html": [
       "<iframe id='facets-iframe' width=\"100%\" height=\"500px\"></iframe>\n",
       "        <script>\n",
       "        facets_iframe = document.getElementById('facets-iframe');\n",
       "        facets_html = '<link rel=\"import\" href=\"https://raw.githubusercontent.com/PAIR-code/facets/master/facets-dist/facets-jupyter.html\"><facets-overview proto-input=\"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\"></facets-overview>';\n",
       "        facets_iframe.contentWindow.document.write(facets_html);\n",
       "         facets_iframe.id = \"\";\n",
       "         setTimeout(() => {\n",
       "           facets_iframe.setAttribute('height', facets_iframe.contentWindow.document.body.offsetHeight + 'px')\n",
       "         }, 1500)\n",
       "         </script>"
      ],
      "text/plain": [
       "<IPython.core.display.HTML object>"
      ]
     },
     "metadata": {},
     "output_type": "display_data"
    }
   ],
   "source": [
    "html = get_statistics_html(\n",
    "    lhs_statistics=stats,\n",
    "    rhs_statistics=None,\n",
    "    lhs_name='lhs_statistics',\n",
    "    rhs_name='rhs_statistics'\n",
    ")\n",
    "\n",
    "with open(html_path, 'w') as f:\n",
    "    f.write(html)\n",
    "tfdv.visualize_statistics(stats)\n",
    "#print(stats)"
   ]
  },
  {
   "cell_type": "code",
   "execution_count": 6,
   "metadata": {},
   "outputs": [
    {
     "data": {
      "text/html": [
       "<div>\n",
       "<style scoped>\n",
       "    .dataframe tbody tr th:only-of-type {\n",
       "        vertical-align: middle;\n",
       "    }\n",
       "\n",
       "    .dataframe tbody tr th {\n",
       "        vertical-align: top;\n",
       "    }\n",
       "\n",
       "    .dataframe thead th {\n",
       "        text-align: right;\n",
       "    }\n",
       "</style>\n",
       "<table border=\"1\" class=\"dataframe\">\n",
       "  <thead>\n",
       "    <tr style=\"text-align: right;\">\n",
       "      <th></th>\n",
       "      <th>Type</th>\n",
       "      <th>Presence</th>\n",
       "      <th>Valency</th>\n",
       "      <th>Domain</th>\n",
       "    </tr>\n",
       "    <tr>\n",
       "      <th>Feature name</th>\n",
       "      <th></th>\n",
       "      <th></th>\n",
       "      <th></th>\n",
       "      <th></th>\n",
       "    </tr>\n",
       "  </thead>\n",
       "  <tbody>\n",
       "    <tr>\n",
       "      <th>'mask/png_width'</th>\n",
       "      <td>INT</td>\n",
       "      <td>required</td>\n",
       "      <td></td>\n",
       "      <td>-</td>\n",
       "    </tr>\n",
       "    <tr>\n",
       "      <th>'mask/contour_area'</th>\n",
       "      <td>FLOAT</td>\n",
       "      <td>required</td>\n",
       "      <td></td>\n",
       "      <td>-</td>\n",
       "    </tr>\n",
       "    <tr>\n",
       "      <th>'mask/labels'</th>\n",
       "      <td>INT</td>\n",
       "      <td>required</td>\n",
       "      <td></td>\n",
       "      <td>-</td>\n",
       "    </tr>\n",
       "    <tr>\n",
       "      <th>'mask/png_height'</th>\n",
       "      <td>INT</td>\n",
       "      <td>required</td>\n",
       "      <td></td>\n",
       "      <td>-</td>\n",
       "    </tr>\n",
       "  </tbody>\n",
       "</table>\n",
       "</div>"
      ],
      "text/plain": [
       "                      Type  Presence Valency Domain\n",
       "Feature name                                       \n",
       "'mask/png_width'       INT  required              -\n",
       "'mask/contour_area'  FLOAT  required              -\n",
       "'mask/labels'          INT  required              -\n",
       "'mask/png_height'      INT  required              -"
      ]
     },
     "metadata": {},
     "output_type": "display_data"
    }
   ],
   "source": [
    "schema = tfdv.infer_schema(stats)\n",
    "tfdv.display_schema(schema)"
   ]
  },
  {
   "cell_type": "code",
   "execution_count": 6,
   "metadata": {},
   "outputs": [
    {
     "data": {
      "text/html": [
       "<div>\n",
       "<style scoped>\n",
       "    .dataframe tbody tr th:only-of-type {\n",
       "        vertical-align: middle;\n",
       "    }\n",
       "\n",
       "    .dataframe tbody tr th {\n",
       "        vertical-align: top;\n",
       "    }\n",
       "\n",
       "    .dataframe thead th {\n",
       "        text-align: right;\n",
       "    }\n",
       "</style>\n",
       "<table border=\"1\" class=\"dataframe\">\n",
       "  <thead>\n",
       "    <tr style=\"text-align: right;\">\n",
       "      <th></th>\n",
       "      <th>Type</th>\n",
       "      <th>Presence</th>\n",
       "      <th>Valency</th>\n",
       "      <th>Domain</th>\n",
       "    </tr>\n",
       "    <tr>\n",
       "      <th>Feature name</th>\n",
       "      <th></th>\n",
       "      <th></th>\n",
       "      <th></th>\n",
       "      <th></th>\n",
       "    </tr>\n",
       "  </thead>\n",
       "  <tbody>\n",
       "    <tr>\n",
       "      <th>'image/format'</th>\n",
       "      <td>STRING</td>\n",
       "      <td>required</td>\n",
       "      <td></td>\n",
       "      <td>'image/format'</td>\n",
       "    </tr>\n",
       "    <tr>\n",
       "      <th>'image/raw'</th>\n",
       "      <td>BYTES</td>\n",
       "      <td>required</td>\n",
       "      <td></td>\n",
       "      <td>-</td>\n",
       "    </tr>\n",
       "    <tr>\n",
       "      <th>'image/label'</th>\n",
       "      <td>STRING</td>\n",
       "      <td>required</td>\n",
       "      <td></td>\n",
       "      <td>'image/label'</td>\n",
       "    </tr>\n",
       "    <tr>\n",
       "      <th>'image/height'</th>\n",
       "      <td>INT</td>\n",
       "      <td>required</td>\n",
       "      <td></td>\n",
       "      <td>-</td>\n",
       "    </tr>\n",
       "    <tr>\n",
       "      <th>'image/width'</th>\n",
       "      <td>INT</td>\n",
       "      <td>required</td>\n",
       "      <td></td>\n",
       "      <td>-</td>\n",
       "    </tr>\n",
       "    <tr>\n",
       "      <th>'image/channels'</th>\n",
       "      <td>INT</td>\n",
       "      <td>required</td>\n",
       "      <td></td>\n",
       "      <td>-</td>\n",
       "    </tr>\n",
       "  </tbody>\n",
       "</table>\n",
       "</div>"
      ],
      "text/plain": [
       "                    Type  Presence Valency          Domain\n",
       "Feature name                                              \n",
       "'image/format'    STRING  required          'image/format'\n",
       "'image/raw'       BYTES   required          -             \n",
       "'image/label'     STRING  required          'image/label' \n",
       "'image/height'    INT     required          -             \n",
       "'image/width'     INT     required          -             \n",
       "'image/channels'  INT     required          -             "
      ]
     },
     "metadata": {},
     "output_type": "display_data"
    },
    {
     "data": {
      "text/html": [
       "<div>\n",
       "<style scoped>\n",
       "    .dataframe tbody tr th:only-of-type {\n",
       "        vertical-align: middle;\n",
       "    }\n",
       "\n",
       "    .dataframe tbody tr th {\n",
       "        vertical-align: top;\n",
       "    }\n",
       "\n",
       "    .dataframe thead th {\n",
       "        text-align: right;\n",
       "    }\n",
       "</style>\n",
       "<table border=\"1\" class=\"dataframe\">\n",
       "  <thead>\n",
       "    <tr style=\"text-align: right;\">\n",
       "      <th></th>\n",
       "      <th>Values</th>\n",
       "    </tr>\n",
       "    <tr>\n",
       "      <th>Domain</th>\n",
       "      <th></th>\n",
       "    </tr>\n",
       "  </thead>\n",
       "  <tbody>\n",
       "    <tr>\n",
       "      <th>'image/format'</th>\n",
       "      <td>'JPEG', 'PNG'</td>\n",
       "    </tr>\n",
       "    <tr>\n",
       "      <th>'image/label'</th>\n",
       "      <td>'bike', 'person'</td>\n",
       "    </tr>\n",
       "  </tbody>\n",
       "</table>\n",
       "</div>"
      ],
      "text/plain": [
       "                          Values\n",
       "Domain                          \n",
       "'image/format'  'JPEG', 'PNG'   \n",
       "'image/label'   'bike', 'person'"
      ]
     },
     "metadata": {},
     "output_type": "display_data"
    }
   ],
   "source": [
    "#tfdv.get_domain(schema, 'image/format').value.append('PNG')\n",
    "#tfdv.display_schema(schema)"
   ]
  },
  {
   "cell_type": "code",
   "execution_count": null,
   "metadata": {},
   "outputs": [],
   "source": []
  }
 ],
 "metadata": {
  "kernelspec": {
   "display_name": "Python 3",
   "language": "python",
   "name": "python3"
  },
  "language_info": {
   "codemirror_mode": {
    "name": "ipython",
    "version": 3
   },
   "file_extension": ".py",
   "mimetype": "text/x-python",
   "name": "python",
   "nbconvert_exporter": "python",
   "pygments_lexer": "ipython3",
   "version": "3.6.9"
  }
 },
 "nbformat": 4,
 "nbformat_minor": 2
}
