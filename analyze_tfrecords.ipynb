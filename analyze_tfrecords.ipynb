{
 "cells": [
  {
   "cell_type": "code",
   "execution_count": 1,
   "metadata": {
    "scrolled": true
   },
   "outputs": [
    {
     "name": "stderr",
     "output_type": "stream",
     "text": [
      "/home/segmind/.local/lib/python3.6/site-packages/tensorflow/python/framework/dtypes.py:516: FutureWarning: Passing (type, 1) or '1type' as a synonym of type is deprecated; in a future version of numpy, it will be understood as (type, (1,)) / '(1,)type'.\n",
      "  _np_qint8 = np.dtype([(\"qint8\", np.int8, 1)])\n",
      "/home/segmind/.local/lib/python3.6/site-packages/tensorflow/python/framework/dtypes.py:517: FutureWarning: Passing (type, 1) or '1type' as a synonym of type is deprecated; in a future version of numpy, it will be understood as (type, (1,)) / '(1,)type'.\n",
      "  _np_quint8 = np.dtype([(\"quint8\", np.uint8, 1)])\n",
      "/home/segmind/.local/lib/python3.6/site-packages/tensorflow/python/framework/dtypes.py:518: FutureWarning: Passing (type, 1) or '1type' as a synonym of type is deprecated; in a future version of numpy, it will be understood as (type, (1,)) / '(1,)type'.\n",
      "  _np_qint16 = np.dtype([(\"qint16\", np.int16, 1)])\n",
      "/home/segmind/.local/lib/python3.6/site-packages/tensorflow/python/framework/dtypes.py:519: FutureWarning: Passing (type, 1) or '1type' as a synonym of type is deprecated; in a future version of numpy, it will be understood as (type, (1,)) / '(1,)type'.\n",
      "  _np_quint16 = np.dtype([(\"quint16\", np.uint16, 1)])\n",
      "/home/segmind/.local/lib/python3.6/site-packages/tensorflow/python/framework/dtypes.py:520: FutureWarning: Passing (type, 1) or '1type' as a synonym of type is deprecated; in a future version of numpy, it will be understood as (type, (1,)) / '(1,)type'.\n",
      "  _np_qint32 = np.dtype([(\"qint32\", np.int32, 1)])\n",
      "/home/segmind/.local/lib/python3.6/site-packages/tensorflow/python/framework/dtypes.py:525: FutureWarning: Passing (type, 1) or '1type' as a synonym of type is deprecated; in a future version of numpy, it will be understood as (type, (1,)) / '(1,)type'.\n",
      "  np_resource = np.dtype([(\"resource\", np.ubyte, 1)])\n",
      "/home/segmind/.local/lib/python3.6/site-packages/tensorboard/compat/tensorflow_stub/dtypes.py:541: FutureWarning: Passing (type, 1) or '1type' as a synonym of type is deprecated; in a future version of numpy, it will be understood as (type, (1,)) / '(1,)type'.\n",
      "  _np_qint8 = np.dtype([(\"qint8\", np.int8, 1)])\n",
      "/home/segmind/.local/lib/python3.6/site-packages/tensorboard/compat/tensorflow_stub/dtypes.py:542: FutureWarning: Passing (type, 1) or '1type' as a synonym of type is deprecated; in a future version of numpy, it will be understood as (type, (1,)) / '(1,)type'.\n",
      "  _np_quint8 = np.dtype([(\"quint8\", np.uint8, 1)])\n",
      "/home/segmind/.local/lib/python3.6/site-packages/tensorboard/compat/tensorflow_stub/dtypes.py:543: FutureWarning: Passing (type, 1) or '1type' as a synonym of type is deprecated; in a future version of numpy, it will be understood as (type, (1,)) / '(1,)type'.\n",
      "  _np_qint16 = np.dtype([(\"qint16\", np.int16, 1)])\n",
      "/home/segmind/.local/lib/python3.6/site-packages/tensorboard/compat/tensorflow_stub/dtypes.py:544: FutureWarning: Passing (type, 1) or '1type' as a synonym of type is deprecated; in a future version of numpy, it will be understood as (type, (1,)) / '(1,)type'.\n",
      "  _np_quint16 = np.dtype([(\"quint16\", np.uint16, 1)])\n",
      "/home/segmind/.local/lib/python3.6/site-packages/tensorboard/compat/tensorflow_stub/dtypes.py:545: FutureWarning: Passing (type, 1) or '1type' as a synonym of type is deprecated; in a future version of numpy, it will be understood as (type, (1,)) / '(1,)type'.\n",
      "  _np_qint32 = np.dtype([(\"qint32\", np.int32, 1)])\n",
      "/home/segmind/.local/lib/python3.6/site-packages/tensorboard/compat/tensorflow_stub/dtypes.py:550: FutureWarning: Passing (type, 1) or '1type' as a synonym of type is deprecated; in a future version of numpy, it will be understood as (type, (1,)) / '(1,)type'.\n",
      "  np_resource = np.dtype([(\"resource\", np.ubyte, 1)])\n"
     ]
    }
   ],
   "source": [
    "import tensorflow_data_validation as tfdv\n",
    "\n",
    "tfrecord_path = '/home/segmind/Desktop/test/tfdv/HardHat/person.tfrecord'\n",
    "stats_store_path = '/home/segmind/Desktop/test/tfdv/heads_stats.proto'\n",
    "\n",
    "semantic_stats_options = tfdv.StatsOptions(enable_semantic_domain_stats=True)\n"
   ]
  },
  {
   "cell_type": "code",
   "execution_count": 2,
   "metadata": {},
   "outputs": [
    {
     "name": "stdout",
     "output_type": "stream",
     "text": [
      "WARNING:tensorflow:From /usr/local/lib/python3.6/dist-packages/tensorflow_data_validation/utils/stats_gen_lib.py:81: The name tf.gfile.Exists is deprecated. Please use tf.io.gfile.exists instead.\n",
      "\n",
      "WARNING:tensorflow:From /usr/local/lib/python3.6/dist-packages/tensorflow_transform/analyzers.py:948: The name tf.Session is deprecated. Please use tf.compat.v1.Session instead.\n",
      "\n"
     ]
    },
    {
     "name": "stderr",
     "output_type": "stream",
     "text": [
      "WARNING:tensorflow:From /usr/local/lib/python3.6/dist-packages/tensorflow_transform/analyzers.py:948: The name tf.Session is deprecated. Please use tf.compat.v1.Session instead.\n",
      "\n"
     ]
    },
    {
     "name": "stdout",
     "output_type": "stream",
     "text": [
      "WARNING:tensorflow:From /usr/local/lib/python3.6/dist-packages/tensorflow_transform/analyzers.py:994: The name tf.placeholder is deprecated. Please use tf.compat.v1.placeholder instead.\n",
      "\n"
     ]
    },
    {
     "name": "stderr",
     "output_type": "stream",
     "text": [
      "WARNING:tensorflow:From /usr/local/lib/python3.6/dist-packages/tensorflow_transform/analyzers.py:994: The name tf.placeholder is deprecated. Please use tf.compat.v1.placeholder instead.\n",
      "\n",
      "WARNING:root:Couldn't find python-snappy so the implementation of _TFRecordUtil._masked_crc32c is not as fast as it could be.\n",
      "WARNING:root:Deleting 1 existing files in target path matching: \n"
     ]
    },
    {
     "name": "stdout",
     "output_type": "stream",
     "text": [
      "WARNING:tensorflow:From /usr/local/lib/python3.6/dist-packages/tensorflow_data_validation/utils/stats_gen_lib.py:328: tf_record_iterator (from tensorflow.python.lib.io.tf_record) is deprecated and will be removed in a future version.\n",
      "Instructions for updating:\n",
      "Use eager execution and: \n",
      "`tf.data.TFRecordDataset(path)`\n"
     ]
    },
    {
     "name": "stderr",
     "output_type": "stream",
     "text": [
      "WARNING:tensorflow:From /usr/local/lib/python3.6/dist-packages/tensorflow_data_validation/utils/stats_gen_lib.py:328: tf_record_iterator (from tensorflow.python.lib.io.tf_record) is deprecated and will be removed in a future version.\n",
      "Instructions for updating:\n",
      "Use eager execution and: \n",
      "`tf.data.TFRecordDataset(path)`\n"
     ]
    }
   ],
   "source": [
    "stats = tfdv.generate_statistics_from_tfrecord(\n",
    "\tdata_location=tfrecord_path,\n",
    "    output_path=stats_store_path,\n",
    "\tstats_options=semantic_stats_options)\n"
   ]
  },
  {
   "cell_type": "code",
   "execution_count": 8,
   "metadata": {},
   "outputs": [
    {
     "data": {
      "text/html": [
       "<iframe id='facets-iframe' width=\"100%\" height=\"500px\"></iframe>\n",
       "        <script>\n",
       "        facets_iframe = document.getElementById('facets-iframe');\n",
       "        facets_html = '<link rel=\"import\" href=\"https://raw.githubusercontent.com/PAIR-code/facets/master/facets-dist/facets-jupyter.html\"><facets-overview proto-input=\"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\"></facets-overview>';\n",
       "        facets_iframe.contentWindow.document.write(facets_html);\n",
       "         facets_iframe.id = \"\";\n",
       "         setTimeout(() => {\n",
       "           facets_iframe.setAttribute('height', facets_iframe.contentWindow.document.body.offsetHeight + 'px')\n",
       "         }, 1500)\n",
       "         </script>"
      ],
      "text/plain": [
       "<IPython.core.display.HTML object>"
      ]
     },
     "metadata": {},
     "output_type": "display_data"
    }
   ],
   "source": [
    "tfdv.visualize_statistics(stats)\n",
    "#print(stats)"
   ]
  },
  {
   "cell_type": "code",
   "execution_count": 4,
   "metadata": {},
   "outputs": [
    {
     "data": {
      "text/html": [
       "<div>\n",
       "<style scoped>\n",
       "    .dataframe tbody tr th:only-of-type {\n",
       "        vertical-align: middle;\n",
       "    }\n",
       "\n",
       "    .dataframe tbody tr th {\n",
       "        vertical-align: top;\n",
       "    }\n",
       "\n",
       "    .dataframe thead th {\n",
       "        text-align: right;\n",
       "    }\n",
       "</style>\n",
       "<table border=\"1\" class=\"dataframe\">\n",
       "  <thead>\n",
       "    <tr style=\"text-align: right;\">\n",
       "      <th></th>\n",
       "      <th>Type</th>\n",
       "      <th>Presence</th>\n",
       "      <th>Valency</th>\n",
       "      <th>Domain</th>\n",
       "    </tr>\n",
       "    <tr>\n",
       "      <th>Feature name</th>\n",
       "      <th></th>\n",
       "      <th></th>\n",
       "      <th></th>\n",
       "      <th></th>\n",
       "    </tr>\n",
       "  </thead>\n",
       "  <tbody>\n",
       "    <tr>\n",
       "      <th>'image/object/class/label'</th>\n",
       "      <td>STRING</td>\n",
       "      <td>required</td>\n",
       "      <td></td>\n",
       "      <td>'image/object/class/label'</td>\n",
       "    </tr>\n",
       "    <tr>\n",
       "      <th>'image/object/bbox/width'</th>\n",
       "      <td>FLOAT</td>\n",
       "      <td>required</td>\n",
       "      <td></td>\n",
       "      <td>-</td>\n",
       "    </tr>\n",
       "    <tr>\n",
       "      <th>'image/object/bbox/height'</th>\n",
       "      <td>FLOAT</td>\n",
       "      <td>required</td>\n",
       "      <td></td>\n",
       "      <td>-</td>\n",
       "    </tr>\n",
       "  </tbody>\n",
       "</table>\n",
       "</div>"
      ],
      "text/plain": [
       "                              Type  Presence Valency  \\\n",
       "Feature name                                           \n",
       "'image/object/class/label'  STRING  required           \n",
       "'image/object/bbox/width'    FLOAT  required           \n",
       "'image/object/bbox/height'   FLOAT  required           \n",
       "\n",
       "                                                Domain  \n",
       "Feature name                                            \n",
       "'image/object/class/label'  'image/object/class/label'  \n",
       "'image/object/bbox/width'                            -  \n",
       "'image/object/bbox/height'                           -  "
      ]
     },
     "metadata": {},
     "output_type": "display_data"
    },
    {
     "data": {
      "text/html": [
       "<div>\n",
       "<style scoped>\n",
       "    .dataframe tbody tr th:only-of-type {\n",
       "        vertical-align: middle;\n",
       "    }\n",
       "\n",
       "    .dataframe tbody tr th {\n",
       "        vertical-align: top;\n",
       "    }\n",
       "\n",
       "    .dataframe thead th {\n",
       "        text-align: right;\n",
       "    }\n",
       "</style>\n",
       "<table border=\"1\" class=\"dataframe\">\n",
       "  <thead>\n",
       "    <tr style=\"text-align: right;\">\n",
       "      <th></th>\n",
       "      <th>Values</th>\n",
       "    </tr>\n",
       "    <tr>\n",
       "      <th>Domain</th>\n",
       "      <th></th>\n",
       "    </tr>\n",
       "  </thead>\n",
       "  <tbody>\n",
       "    <tr>\n",
       "      <th>'image/object/class/label'</th>\n",
       "      <td>'head'</td>\n",
       "    </tr>\n",
       "  </tbody>\n",
       "</table>\n",
       "</div>"
      ],
      "text/plain": [
       "                            Values\n",
       "Domain                            \n",
       "'image/object/class/label'  'head'"
      ]
     },
     "metadata": {},
     "output_type": "display_data"
    }
   ],
   "source": [
    "schema = tfdv.infer_schema(stats)\n",
    "tfdv.display_schema(schema)"
   ]
  },
  {
   "cell_type": "code",
   "execution_count": 6,
   "metadata": {},
   "outputs": [
    {
     "data": {
      "text/html": [
       "<div>\n",
       "<style scoped>\n",
       "    .dataframe tbody tr th:only-of-type {\n",
       "        vertical-align: middle;\n",
       "    }\n",
       "\n",
       "    .dataframe tbody tr th {\n",
       "        vertical-align: top;\n",
       "    }\n",
       "\n",
       "    .dataframe thead th {\n",
       "        text-align: right;\n",
       "    }\n",
       "</style>\n",
       "<table border=\"1\" class=\"dataframe\">\n",
       "  <thead>\n",
       "    <tr style=\"text-align: right;\">\n",
       "      <th></th>\n",
       "      <th>Type</th>\n",
       "      <th>Presence</th>\n",
       "      <th>Valency</th>\n",
       "      <th>Domain</th>\n",
       "    </tr>\n",
       "    <tr>\n",
       "      <th>Feature name</th>\n",
       "      <th></th>\n",
       "      <th></th>\n",
       "      <th></th>\n",
       "      <th></th>\n",
       "    </tr>\n",
       "  </thead>\n",
       "  <tbody>\n",
       "    <tr>\n",
       "      <th>'image/format'</th>\n",
       "      <td>STRING</td>\n",
       "      <td>required</td>\n",
       "      <td></td>\n",
       "      <td>'image/format'</td>\n",
       "    </tr>\n",
       "    <tr>\n",
       "      <th>'image/raw'</th>\n",
       "      <td>BYTES</td>\n",
       "      <td>required</td>\n",
       "      <td></td>\n",
       "      <td>-</td>\n",
       "    </tr>\n",
       "    <tr>\n",
       "      <th>'image/label'</th>\n",
       "      <td>STRING</td>\n",
       "      <td>required</td>\n",
       "      <td></td>\n",
       "      <td>'image/label'</td>\n",
       "    </tr>\n",
       "    <tr>\n",
       "      <th>'image/height'</th>\n",
       "      <td>INT</td>\n",
       "      <td>required</td>\n",
       "      <td></td>\n",
       "      <td>-</td>\n",
       "    </tr>\n",
       "    <tr>\n",
       "      <th>'image/width'</th>\n",
       "      <td>INT</td>\n",
       "      <td>required</td>\n",
       "      <td></td>\n",
       "      <td>-</td>\n",
       "    </tr>\n",
       "    <tr>\n",
       "      <th>'image/channels'</th>\n",
       "      <td>INT</td>\n",
       "      <td>required</td>\n",
       "      <td></td>\n",
       "      <td>-</td>\n",
       "    </tr>\n",
       "  </tbody>\n",
       "</table>\n",
       "</div>"
      ],
      "text/plain": [
       "                    Type  Presence Valency          Domain\n",
       "Feature name                                              \n",
       "'image/format'    STRING  required          'image/format'\n",
       "'image/raw'       BYTES   required          -             \n",
       "'image/label'     STRING  required          'image/label' \n",
       "'image/height'    INT     required          -             \n",
       "'image/width'     INT     required          -             \n",
       "'image/channels'  INT     required          -             "
      ]
     },
     "metadata": {},
     "output_type": "display_data"
    },
    {
     "data": {
      "text/html": [
       "<div>\n",
       "<style scoped>\n",
       "    .dataframe tbody tr th:only-of-type {\n",
       "        vertical-align: middle;\n",
       "    }\n",
       "\n",
       "    .dataframe tbody tr th {\n",
       "        vertical-align: top;\n",
       "    }\n",
       "\n",
       "    .dataframe thead th {\n",
       "        text-align: right;\n",
       "    }\n",
       "</style>\n",
       "<table border=\"1\" class=\"dataframe\">\n",
       "  <thead>\n",
       "    <tr style=\"text-align: right;\">\n",
       "      <th></th>\n",
       "      <th>Values</th>\n",
       "    </tr>\n",
       "    <tr>\n",
       "      <th>Domain</th>\n",
       "      <th></th>\n",
       "    </tr>\n",
       "  </thead>\n",
       "  <tbody>\n",
       "    <tr>\n",
       "      <th>'image/format'</th>\n",
       "      <td>'JPEG', 'PNG'</td>\n",
       "    </tr>\n",
       "    <tr>\n",
       "      <th>'image/label'</th>\n",
       "      <td>'bike', 'person'</td>\n",
       "    </tr>\n",
       "  </tbody>\n",
       "</table>\n",
       "</div>"
      ],
      "text/plain": [
       "                          Values\n",
       "Domain                          \n",
       "'image/format'  'JPEG', 'PNG'   \n",
       "'image/label'   'bike', 'person'"
      ]
     },
     "metadata": {},
     "output_type": "display_data"
    }
   ],
   "source": [
    "tfdv.get_domain(schema, 'image/format').value.append('PNG')\n",
    "tfdv.display_schema(schema)"
   ]
  },
  {
   "cell_type": "code",
   "execution_count": null,
   "metadata": {},
   "outputs": [],
   "source": []
  }
 ],
 "metadata": {
  "kernelspec": {
   "display_name": "Python 3",
   "language": "python",
   "name": "python3"
  },
  "language_info": {
   "codemirror_mode": {
    "name": "ipython",
    "version": 3
   },
   "file_extension": ".py",
   "mimetype": "text/x-python",
   "name": "python",
   "nbconvert_exporter": "python",
   "pygments_lexer": "ipython3",
   "version": "3.6.9"
  }
 },
 "nbformat": 4,
 "nbformat_minor": 2
}
