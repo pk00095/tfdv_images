{
 "cells": [
  {
   "cell_type": "code",
   "execution_count": null,
   "metadata": {},
   "outputs": [],
   "source": [
    "!pip3 install tensorflow-data-validation"
   ]
  },
  {
   "cell_type": "code",
   "execution_count": 1,
   "metadata": {
    "scrolled": true
   },
   "outputs": [
    {
     "name": "stderr",
     "output_type": "stream",
     "text": [
      "/home/segmind/.local/lib/python3.6/site-packages/tensorflow/python/framework/dtypes.py:516: FutureWarning: Passing (type, 1) or '1type' as a synonym of type is deprecated; in a future version of numpy, it will be understood as (type, (1,)) / '(1,)type'.\n",
      "  _np_qint8 = np.dtype([(\"qint8\", np.int8, 1)])\n",
      "/home/segmind/.local/lib/python3.6/site-packages/tensorflow/python/framework/dtypes.py:517: FutureWarning: Passing (type, 1) or '1type' as a synonym of type is deprecated; in a future version of numpy, it will be understood as (type, (1,)) / '(1,)type'.\n",
      "  _np_quint8 = np.dtype([(\"quint8\", np.uint8, 1)])\n",
      "/home/segmind/.local/lib/python3.6/site-packages/tensorflow/python/framework/dtypes.py:518: FutureWarning: Passing (type, 1) or '1type' as a synonym of type is deprecated; in a future version of numpy, it will be understood as (type, (1,)) / '(1,)type'.\n",
      "  _np_qint16 = np.dtype([(\"qint16\", np.int16, 1)])\n",
      "/home/segmind/.local/lib/python3.6/site-packages/tensorflow/python/framework/dtypes.py:519: FutureWarning: Passing (type, 1) or '1type' as a synonym of type is deprecated; in a future version of numpy, it will be understood as (type, (1,)) / '(1,)type'.\n",
      "  _np_quint16 = np.dtype([(\"quint16\", np.uint16, 1)])\n",
      "/home/segmind/.local/lib/python3.6/site-packages/tensorflow/python/framework/dtypes.py:520: FutureWarning: Passing (type, 1) or '1type' as a synonym of type is deprecated; in a future version of numpy, it will be understood as (type, (1,)) / '(1,)type'.\n",
      "  _np_qint32 = np.dtype([(\"qint32\", np.int32, 1)])\n",
      "/home/segmind/.local/lib/python3.6/site-packages/tensorflow/python/framework/dtypes.py:525: FutureWarning: Passing (type, 1) or '1type' as a synonym of type is deprecated; in a future version of numpy, it will be understood as (type, (1,)) / '(1,)type'.\n",
      "  np_resource = np.dtype([(\"resource\", np.ubyte, 1)])\n",
      "/home/segmind/.local/lib/python3.6/site-packages/tensorboard/compat/tensorflow_stub/dtypes.py:541: FutureWarning: Passing (type, 1) or '1type' as a synonym of type is deprecated; in a future version of numpy, it will be understood as (type, (1,)) / '(1,)type'.\n",
      "  _np_qint8 = np.dtype([(\"qint8\", np.int8, 1)])\n",
      "/home/segmind/.local/lib/python3.6/site-packages/tensorboard/compat/tensorflow_stub/dtypes.py:542: FutureWarning: Passing (type, 1) or '1type' as a synonym of type is deprecated; in a future version of numpy, it will be understood as (type, (1,)) / '(1,)type'.\n",
      "  _np_quint8 = np.dtype([(\"quint8\", np.uint8, 1)])\n",
      "/home/segmind/.local/lib/python3.6/site-packages/tensorboard/compat/tensorflow_stub/dtypes.py:543: FutureWarning: Passing (type, 1) or '1type' as a synonym of type is deprecated; in a future version of numpy, it will be understood as (type, (1,)) / '(1,)type'.\n",
      "  _np_qint16 = np.dtype([(\"qint16\", np.int16, 1)])\n",
      "/home/segmind/.local/lib/python3.6/site-packages/tensorboard/compat/tensorflow_stub/dtypes.py:544: FutureWarning: Passing (type, 1) or '1type' as a synonym of type is deprecated; in a future version of numpy, it will be understood as (type, (1,)) / '(1,)type'.\n",
      "  _np_quint16 = np.dtype([(\"quint16\", np.uint16, 1)])\n",
      "/home/segmind/.local/lib/python3.6/site-packages/tensorboard/compat/tensorflow_stub/dtypes.py:545: FutureWarning: Passing (type, 1) or '1type' as a synonym of type is deprecated; in a future version of numpy, it will be understood as (type, (1,)) / '(1,)type'.\n",
      "  _np_qint32 = np.dtype([(\"qint32\", np.int32, 1)])\n",
      "/home/segmind/.local/lib/python3.6/site-packages/tensorboard/compat/tensorflow_stub/dtypes.py:550: FutureWarning: Passing (type, 1) or '1type' as a synonym of type is deprecated; in a future version of numpy, it will be understood as (type, (1,)) / '(1,)type'.\n",
      "  np_resource = np.dtype([(\"resource\", np.ubyte, 1)])\n"
     ]
    }
   ],
   "source": [
    "import tensorflow_data_validation as tfdv\n",
    "\n",
    "tfrecord_path = '/home/segmind/Desktop/PRATIK/DATASETS/consolidated/0.tfrecord'\n",
    "stats_store_path = '/home/segmind/Desktop/PRATIK/DATASETS/consolidated/0.proto'\n",
    "\n",
    "# If analysis on image is required\n",
    "semantic_stats_options = tfdv.StatsOptions(enable_semantic_domain_stats=True)\n",
    "# Donot analyze images\n",
    "#semantic_stats_options = tfdv.StatsOptions()\n"
   ]
  },
  {
   "cell_type": "code",
   "execution_count": 2,
   "metadata": {},
   "outputs": [
    {
     "name": "stdout",
     "output_type": "stream",
     "text": [
      "WARNING:tensorflow:From /usr/local/lib/python3.6/dist-packages/tensorflow_data_validation/utils/stats_gen_lib.py:81: The name tf.gfile.Exists is deprecated. Please use tf.io.gfile.exists instead.\n",
      "\n",
      "WARNING:tensorflow:From /usr/local/lib/python3.6/dist-packages/tensorflow_transform/analyzers.py:948: The name tf.Session is deprecated. Please use tf.compat.v1.Session instead.\n",
      "\n"
     ]
    },
    {
     "name": "stderr",
     "output_type": "stream",
     "text": [
      "WARNING:tensorflow:From /usr/local/lib/python3.6/dist-packages/tensorflow_transform/analyzers.py:948: The name tf.Session is deprecated. Please use tf.compat.v1.Session instead.\n",
      "\n"
     ]
    },
    {
     "name": "stdout",
     "output_type": "stream",
     "text": [
      "WARNING:tensorflow:From /usr/local/lib/python3.6/dist-packages/tensorflow_transform/analyzers.py:994: The name tf.placeholder is deprecated. Please use tf.compat.v1.placeholder instead.\n",
      "\n"
     ]
    },
    {
     "name": "stderr",
     "output_type": "stream",
     "text": [
      "WARNING:tensorflow:From /usr/local/lib/python3.6/dist-packages/tensorflow_transform/analyzers.py:994: The name tf.placeholder is deprecated. Please use tf.compat.v1.placeholder instead.\n",
      "\n",
      "WARNING:root:Couldn't find python-snappy so the implementation of _TFRecordUtil._masked_crc32c is not as fast as it could be.\n"
     ]
    },
    {
     "name": "stdout",
     "output_type": "stream",
     "text": [
      "WARNING:tensorflow:From /usr/local/lib/python3.6/dist-packages/tensorflow_data_validation/utils/stats_gen_lib.py:328: tf_record_iterator (from tensorflow.python.lib.io.tf_record) is deprecated and will be removed in a future version.\n",
      "Instructions for updating:\n",
      "Use eager execution and: \n",
      "`tf.data.TFRecordDataset(path)`\n"
     ]
    },
    {
     "name": "stderr",
     "output_type": "stream",
     "text": [
      "WARNING:tensorflow:From /usr/local/lib/python3.6/dist-packages/tensorflow_data_validation/utils/stats_gen_lib.py:328: tf_record_iterator (from tensorflow.python.lib.io.tf_record) is deprecated and will be removed in a future version.\n",
      "Instructions for updating:\n",
      "Use eager execution and: \n",
      "`tf.data.TFRecordDataset(path)`\n"
     ]
    }
   ],
   "source": [
    "stats = tfdv.generate_statistics_from_tfrecord(\n",
    "\tdata_location=tfrecord_path,\n",
    "    output_path=stats_store_path,\n",
    "\tstats_options=semantic_stats_options)\n"
   ]
  },
  {
   "cell_type": "code",
   "execution_count": 7,
   "metadata": {},
   "outputs": [
    {
     "data": {
      "text/html": [
       "<iframe id='facets-iframe' width=\"100%\" height=\"500px\"></iframe>\n",
       "        <script>\n",
       "        facets_iframe = document.getElementById('facets-iframe');\n",
       "        facets_html = '<link rel=\"import\" href=\"https://raw.githubusercontent.com/PAIR-code/facets/master/facets-dist/facets-jupyter.html\"><facets-overview proto-input=\"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\"></facets-overview>';\n",
       "        facets_iframe.contentWindow.document.write(facets_html);\n",
       "         facets_iframe.id = \"\";\n",
       "         setTimeout(() => {\n",
       "           facets_iframe.setAttribute('height', facets_iframe.contentWindow.document.body.offsetHeight + 'px')\n",
       "         }, 1500)\n",
       "         </script>"
      ],
      "text/plain": [
       "<IPython.core.display.HTML object>"
      ]
     },
     "metadata": {},
     "output_type": "display_data"
    }
   ],
   "source": [
    "tfdv.visualize_statistics(stats)\n",
    "#print(stats)"
   ]
  },
  {
   "cell_type": "code",
   "execution_count": 6,
   "metadata": {},
   "outputs": [
    {
     "data": {
      "text/html": [
       "<div>\n",
       "<style scoped>\n",
       "    .dataframe tbody tr th:only-of-type {\n",
       "        vertical-align: middle;\n",
       "    }\n",
       "\n",
       "    .dataframe tbody tr th {\n",
       "        vertical-align: top;\n",
       "    }\n",
       "\n",
       "    .dataframe thead th {\n",
       "        text-align: right;\n",
       "    }\n",
       "</style>\n",
       "<table border=\"1\" class=\"dataframe\">\n",
       "  <thead>\n",
       "    <tr style=\"text-align: right;\">\n",
       "      <th></th>\n",
       "      <th>Type</th>\n",
       "      <th>Presence</th>\n",
       "      <th>Valency</th>\n",
       "      <th>Domain</th>\n",
       "    </tr>\n",
       "    <tr>\n",
       "      <th>Feature name</th>\n",
       "      <th></th>\n",
       "      <th></th>\n",
       "      <th></th>\n",
       "      <th></th>\n",
       "    </tr>\n",
       "  </thead>\n",
       "  <tbody>\n",
       "    <tr>\n",
       "      <th>'mask/png_width'</th>\n",
       "      <td>INT</td>\n",
       "      <td>required</td>\n",
       "      <td></td>\n",
       "      <td>-</td>\n",
       "    </tr>\n",
       "    <tr>\n",
       "      <th>'mask/contour_area'</th>\n",
       "      <td>FLOAT</td>\n",
       "      <td>required</td>\n",
       "      <td></td>\n",
       "      <td>-</td>\n",
       "    </tr>\n",
       "    <tr>\n",
       "      <th>'mask/labels'</th>\n",
       "      <td>INT</td>\n",
       "      <td>required</td>\n",
       "      <td></td>\n",
       "      <td>-</td>\n",
       "    </tr>\n",
       "    <tr>\n",
       "      <th>'mask/png_height'</th>\n",
       "      <td>INT</td>\n",
       "      <td>required</td>\n",
       "      <td></td>\n",
       "      <td>-</td>\n",
       "    </tr>\n",
       "  </tbody>\n",
       "</table>\n",
       "</div>"
      ],
      "text/plain": [
       "                      Type  Presence Valency Domain\n",
       "Feature name                                       \n",
       "'mask/png_width'       INT  required              -\n",
       "'mask/contour_area'  FLOAT  required              -\n",
       "'mask/labels'          INT  required              -\n",
       "'mask/png_height'      INT  required              -"
      ]
     },
     "metadata": {},
     "output_type": "display_data"
    }
   ],
   "source": [
    "schema = tfdv.infer_schema(stats)\n",
    "tfdv.display_schema(schema)"
   ]
  },
  {
   "cell_type": "code",
   "execution_count": 6,
   "metadata": {},
   "outputs": [
    {
     "data": {
      "text/html": [
       "<div>\n",
       "<style scoped>\n",
       "    .dataframe tbody tr th:only-of-type {\n",
       "        vertical-align: middle;\n",
       "    }\n",
       "\n",
       "    .dataframe tbody tr th {\n",
       "        vertical-align: top;\n",
       "    }\n",
       "\n",
       "    .dataframe thead th {\n",
       "        text-align: right;\n",
       "    }\n",
       "</style>\n",
       "<table border=\"1\" class=\"dataframe\">\n",
       "  <thead>\n",
       "    <tr style=\"text-align: right;\">\n",
       "      <th></th>\n",
       "      <th>Type</th>\n",
       "      <th>Presence</th>\n",
       "      <th>Valency</th>\n",
       "      <th>Domain</th>\n",
       "    </tr>\n",
       "    <tr>\n",
       "      <th>Feature name</th>\n",
       "      <th></th>\n",
       "      <th></th>\n",
       "      <th></th>\n",
       "      <th></th>\n",
       "    </tr>\n",
       "  </thead>\n",
       "  <tbody>\n",
       "    <tr>\n",
       "      <th>'image/format'</th>\n",
       "      <td>STRING</td>\n",
       "      <td>required</td>\n",
       "      <td></td>\n",
       "      <td>'image/format'</td>\n",
       "    </tr>\n",
       "    <tr>\n",
       "      <th>'image/raw'</th>\n",
       "      <td>BYTES</td>\n",
       "      <td>required</td>\n",
       "      <td></td>\n",
       "      <td>-</td>\n",
       "    </tr>\n",
       "    <tr>\n",
       "      <th>'image/label'</th>\n",
       "      <td>STRING</td>\n",
       "      <td>required</td>\n",
       "      <td></td>\n",
       "      <td>'image/label'</td>\n",
       "    </tr>\n",
       "    <tr>\n",
       "      <th>'image/height'</th>\n",
       "      <td>INT</td>\n",
       "      <td>required</td>\n",
       "      <td></td>\n",
       "      <td>-</td>\n",
       "    </tr>\n",
       "    <tr>\n",
       "      <th>'image/width'</th>\n",
       "      <td>INT</td>\n",
       "      <td>required</td>\n",
       "      <td></td>\n",
       "      <td>-</td>\n",
       "    </tr>\n",
       "    <tr>\n",
       "      <th>'image/channels'</th>\n",
       "      <td>INT</td>\n",
       "      <td>required</td>\n",
       "      <td></td>\n",
       "      <td>-</td>\n",
       "    </tr>\n",
       "  </tbody>\n",
       "</table>\n",
       "</div>"
      ],
      "text/plain": [
       "                    Type  Presence Valency          Domain\n",
       "Feature name                                              \n",
       "'image/format'    STRING  required          'image/format'\n",
       "'image/raw'       BYTES   required          -             \n",
       "'image/label'     STRING  required          'image/label' \n",
       "'image/height'    INT     required          -             \n",
       "'image/width'     INT     required          -             \n",
       "'image/channels'  INT     required          -             "
      ]
     },
     "metadata": {},
     "output_type": "display_data"
    },
    {
     "data": {
      "text/html": [
       "<div>\n",
       "<style scoped>\n",
       "    .dataframe tbody tr th:only-of-type {\n",
       "        vertical-align: middle;\n",
       "    }\n",
       "\n",
       "    .dataframe tbody tr th {\n",
       "        vertical-align: top;\n",
       "    }\n",
       "\n",
       "    .dataframe thead th {\n",
       "        text-align: right;\n",
       "    }\n",
       "</style>\n",
       "<table border=\"1\" class=\"dataframe\">\n",
       "  <thead>\n",
       "    <tr style=\"text-align: right;\">\n",
       "      <th></th>\n",
       "      <th>Values</th>\n",
       "    </tr>\n",
       "    <tr>\n",
       "      <th>Domain</th>\n",
       "      <th></th>\n",
       "    </tr>\n",
       "  </thead>\n",
       "  <tbody>\n",
       "    <tr>\n",
       "      <th>'image/format'</th>\n",
       "      <td>'JPEG', 'PNG'</td>\n",
       "    </tr>\n",
       "    <tr>\n",
       "      <th>'image/label'</th>\n",
       "      <td>'bike', 'person'</td>\n",
       "    </tr>\n",
       "  </tbody>\n",
       "</table>\n",
       "</div>"
      ],
      "text/plain": [
       "                          Values\n",
       "Domain                          \n",
       "'image/format'  'JPEG', 'PNG'   \n",
       "'image/label'   'bike', 'person'"
      ]
     },
     "metadata": {},
     "output_type": "display_data"
    }
   ],
   "source": [
    "#tfdv.get_domain(schema, 'image/format').value.append('PNG')\n",
    "#tfdv.display_schema(schema)"
   ]
  },
  {
   "cell_type": "code",
   "execution_count": null,
   "metadata": {},
   "outputs": [],
   "source": []
  }
 ],
 "metadata": {
  "kernelspec": {
   "display_name": "Python 3",
   "language": "python",
   "name": "python3"
  },
  "language_info": {
   "codemirror_mode": {
    "name": "ipython",
    "version": 3
   },
   "file_extension": ".py",
   "mimetype": "text/x-python",
   "name": "python",
   "nbconvert_exporter": "python",
   "pygments_lexer": "ipython3",
   "version": "3.6.9"
  }
 },
 "nbformat": 4,
 "nbformat_minor": 2
}
